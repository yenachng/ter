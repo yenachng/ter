{
 "cells": [
  {
   "cell_type": "code",
   "execution_count": 1,
   "id": "42af9f4b-2ee1-4476-b341-9104eb3f6563",
   "metadata": {
    "tags": []
   },
   "outputs": [],
   "source": [
    "import my"
   ]
  },
  {
   "cell_type": "code",
   "execution_count": 2,
   "id": "17e774f2-481e-47e8-9841-7547d2bff7d9",
   "metadata": {
    "tags": []
   },
   "outputs": [],
   "source": [
    "def dfs_pathfinder(G, path, visited):\n",
    "    n = G.order\n",
    "    if path is None:\n",
    "        start = max(G.vertices(), key=lambda v: G.degree(v))\n",
    "        path = [start]\n",
    "        visited = {start}\n",
    "    if len(path) == n:\n",
    "        return path\n",
    "    current = path[-1]\n",
    "    for n in G.neighbors(current):\n",
    "        if n not in visited:\n",
    "            path.append(n)\n",
    "            visited.add(n)\n",
    "            res = dfs_pathfinder(G, path, visited)\n",
    "            if res is not None and len(res) == n:\n",
    "                return res\n",
    "            path.pop()\n",
    "            visited.remove(n)\n",
    "    return None"
   ]
  },
  {
   "cell_type": "code",
   "execution_count": null,
   "id": "59fffdef-88d1-4936-82cd-53ef9d8d0d65",
   "metadata": {},
   "outputs": [],
   "source": [
    "def fiedler_partition(G, min_size):\n",
    "    n = G.order()\n",
    "    if n<=min_size:\n",
    "        try:\n",
    "            return G.hamiltonian_path()\n",
    "        except Exception:\n",
    "            return dfs_pathfinder(G)\n",
    "    L = G.laplacian_matrix()\n",
    "    eigs = L.eigenvectors_right()\n",
    "    eigs.sort(key=lambda triple: triple[0])\n",
    "    if len(eigs) < 2:\n",
    "        raise ValueError(\"insufficient eigenvectors\")\n",
    "    fiedler_vector = eigs[1][2][0]"
   ]
  }
 ],
 "metadata": {
  "kernelspec": {
   "display_name": "SageMath 10.2",
   "language": "sage",
   "name": "sagemath"
  },
  "language_info": {
   "codemirror_mode": {
    "name": "ipython",
    "version": 3
   },
   "file_extension": ".py",
   "mimetype": "text/x-python",
   "name": "python",
   "nbconvert_exporter": "python",
   "pygments_lexer": "ipython3",
   "version": "3.11.8"
  }
 },
 "nbformat": 4,
 "nbformat_minor": 5
}
